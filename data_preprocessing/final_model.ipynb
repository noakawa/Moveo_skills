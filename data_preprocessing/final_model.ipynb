{
 "cells": [
  {
   "cell_type": "code",
   "execution_count": 1,
   "id": "30fe1c95",
   "metadata": {},
   "outputs": [],
   "source": [
    "import pandas as pd\n",
    "import numpy as np\n",
    "import preprocessing as pp\n",
    "from sklearn.ensemble import RandomForestRegressor\n",
    "from sklearn.metrics import r2_score, mean_absolute_error"
   ]
  },
  {
   "cell_type": "code",
   "execution_count": 2,
   "id": "3d40232c",
   "metadata": {},
   "outputs": [],
   "source": [
    "df_train = pd.read_csv('housing_train.csv')\n",
    "df_test = pd.read_csv('housing_test.csv')"
   ]
  },
  {
   "cell_type": "code",
   "execution_count": 3,
   "id": "5ce0defe",
   "metadata": {},
   "outputs": [],
   "source": [
    "target = 'median_house_value'\n",
    "y_train = df_train[target]\n",
    "X_train = df_train.drop(columns=target)\n",
    "y_test = df_test[target]\n",
    "X_test = df_test.drop(columns=target)"
   ]
  },
  {
   "cell_type": "code",
   "execution_count": 4,
   "id": "83aaaaf4",
   "metadata": {},
   "outputs": [],
   "source": [
    "model = RandomForestRegressor(n_estimators=300)\n",
    "my_pipeline = pp.pipe(X_train, model)"
   ]
  },
  {
   "cell_type": "code",
   "execution_count": 5,
   "id": "91be632b",
   "metadata": {},
   "outputs": [
    {
     "name": "stdout",
     "output_type": "stream",
     "text": [
      "MAE: 27920.008730199068\n",
      "R2: 0.8074353477120543\n"
     ]
    }
   ],
   "source": [
    "my_pipeline.fit(X_train,y_train)\n",
    "preds = my_pipeline.predict(X_test)\n",
    "score = mean_absolute_error(y_test, preds)\n",
    "print('MAE:', score)\n",
    "r2score = r2_score(y_test, preds)\n",
    "print('R2:', r2score)"
   ]
  }
 ],
 "metadata": {
  "kernelspec": {
   "display_name": "Python 3 (ipykernel)",
   "language": "python",
   "name": "python3"
  },
  "language_info": {
   "codemirror_mode": {
    "name": "ipython",
    "version": 3
   },
   "file_extension": ".py",
   "mimetype": "text/x-python",
   "name": "python",
   "nbconvert_exporter": "python",
   "pygments_lexer": "ipython3",
   "version": "3.9.12"
  }
 },
 "nbformat": 4,
 "nbformat_minor": 5
}
