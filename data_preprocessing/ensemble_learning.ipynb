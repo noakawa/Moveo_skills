{
 "cells": [
  {
   "cell_type": "code",
   "execution_count": 1,
   "id": "6134a26b",
   "metadata": {},
   "outputs": [],
   "source": [
    "from sklearn.ensemble import BaggingRegressor\n",
    "from sklearn.ensemble import AdaBoostRegressor\n",
    "from sklearn.linear_model import RidgeCV, LassoCV\n",
    "from sklearn.neighbors import KNeighborsRegressor\n",
    "from sklearn.ensemble import GradientBoostingRegressor\n",
    "from sklearn.ensemble import StackingRegressor\n",
    "from sklearn.tree import DecisionTreeRegressor"
   ]
  },
  {
   "cell_type": "code",
   "execution_count": 2,
   "id": "f9c2eb4f",
   "metadata": {},
   "outputs": [],
   "source": [
    "import pandas as pd\n",
    "import numpy as np\n",
    "import preprocessing as pp\n",
    "from sklearn.metrics import r2_score, mean_absolute_error\n",
    "from sklearn.model_selection import GridSearchCV"
   ]
  },
  {
   "cell_type": "code",
   "execution_count": 3,
   "id": "c7a839bf",
   "metadata": {},
   "outputs": [],
   "source": [
    "df_train = pd.read_csv('housing_train.csv')\n",
    "df_test = pd.read_csv('housing_test.csv')\n",
    "\n",
    "target = 'median_house_value'\n",
    "y_train = df_train[target]\n",
    "X_train = df_train.drop(columns=target)\n",
    "y_test = df_test[target]\n",
    "X_test = df_test.drop(columns=target)"
   ]
  },
  {
   "cell_type": "code",
   "execution_count": 4,
   "id": "deb3feda",
   "metadata": {},
   "outputs": [],
   "source": [
    "from sklearn.tree import DecisionTreeRegressor\n",
    "from sklearn.ensemble import RandomForestRegressor\n",
    "from sklearn.linear_model import LinearRegression"
   ]
  },
  {
   "cell_type": "code",
   "execution_count": 5,
   "id": "1b2451ab",
   "metadata": {},
   "outputs": [],
   "source": [
    "estimator = [DecisionTreeRegressor(),RandomForestRegressor(n_estimators=300),LinearRegression()]"
   ]
  },
  {
   "cell_type": "code",
   "execution_count": 6,
   "id": "c81da983",
   "metadata": {},
   "outputs": [],
   "source": [
    "preds = {}\n",
    "for e in estimator:\n",
    "    pipeline = pp.pipe(X_train,e)\n",
    "    pipeline.fit(X_train,y_train)\n",
    "    preds[str(e)] = pipeline.predict(X_test)"
   ]
  },
  {
   "cell_type": "code",
   "execution_count": 7,
   "id": "75ec09cd",
   "metadata": {},
   "outputs": [
    {
     "data": {
      "text/html": [
       "<div>\n",
       "<style scoped>\n",
       "    .dataframe tbody tr th:only-of-type {\n",
       "        vertical-align: middle;\n",
       "    }\n",
       "\n",
       "    .dataframe tbody tr th {\n",
       "        vertical-align: top;\n",
       "    }\n",
       "\n",
       "    .dataframe thead th {\n",
       "        text-align: right;\n",
       "    }\n",
       "</style>\n",
       "<table border=\"1\" class=\"dataframe\">\n",
       "  <thead>\n",
       "    <tr style=\"text-align: right;\">\n",
       "      <th></th>\n",
       "      <th>DecisionTreeRegressor()</th>\n",
       "      <th>RandomForestRegressor(n_estimators=300)</th>\n",
       "      <th>LinearRegression()</th>\n",
       "    </tr>\n",
       "  </thead>\n",
       "  <tbody>\n",
       "    <tr>\n",
       "      <th>0</th>\n",
       "      <td>399300.0</td>\n",
       "      <td>399483.333333</td>\n",
       "      <td>318657.0</td>\n",
       "    </tr>\n",
       "    <tr>\n",
       "      <th>1</th>\n",
       "      <td>71600.0</td>\n",
       "      <td>97242.000000</td>\n",
       "      <td>80449.0</td>\n",
       "    </tr>\n",
       "    <tr>\n",
       "      <th>2</th>\n",
       "      <td>85700.0</td>\n",
       "      <td>96615.000000</td>\n",
       "      <td>69761.0</td>\n",
       "    </tr>\n",
       "    <tr>\n",
       "      <th>3</th>\n",
       "      <td>242900.0</td>\n",
       "      <td>270736.333333</td>\n",
       "      <td>250113.0</td>\n",
       "    </tr>\n",
       "    <tr>\n",
       "      <th>4</th>\n",
       "      <td>339200.0</td>\n",
       "      <td>320711.333333</td>\n",
       "      <td>310337.0</td>\n",
       "    </tr>\n",
       "    <tr>\n",
       "      <th>...</th>\n",
       "      <td>...</td>\n",
       "      <td>...</td>\n",
       "      <td>...</td>\n",
       "    </tr>\n",
       "    <tr>\n",
       "      <th>3930</th>\n",
       "      <td>151000.0</td>\n",
       "      <td>203431.666667</td>\n",
       "      <td>242945.0</td>\n",
       "    </tr>\n",
       "    <tr>\n",
       "      <th>3931</th>\n",
       "      <td>93800.0</td>\n",
       "      <td>175310.666667</td>\n",
       "      <td>73505.0</td>\n",
       "    </tr>\n",
       "    <tr>\n",
       "      <th>3932</th>\n",
       "      <td>57300.0</td>\n",
       "      <td>65199.333333</td>\n",
       "      <td>66001.0</td>\n",
       "    </tr>\n",
       "    <tr>\n",
       "      <th>3933</th>\n",
       "      <td>135300.0</td>\n",
       "      <td>122631.333333</td>\n",
       "      <td>159425.0</td>\n",
       "    </tr>\n",
       "    <tr>\n",
       "      <th>3934</th>\n",
       "      <td>237500.0</td>\n",
       "      <td>299129.333333</td>\n",
       "      <td>292097.0</td>\n",
       "    </tr>\n",
       "  </tbody>\n",
       "</table>\n",
       "<p>3935 rows × 3 columns</p>\n",
       "</div>"
      ],
      "text/plain": [
       "      DecisionTreeRegressor()  RandomForestRegressor(n_estimators=300)  \\\n",
       "0                    399300.0                            399483.333333   \n",
       "1                     71600.0                             97242.000000   \n",
       "2                     85700.0                             96615.000000   \n",
       "3                    242900.0                            270736.333333   \n",
       "4                    339200.0                            320711.333333   \n",
       "...                       ...                                      ...   \n",
       "3930                 151000.0                            203431.666667   \n",
       "3931                  93800.0                            175310.666667   \n",
       "3932                  57300.0                             65199.333333   \n",
       "3933                 135300.0                            122631.333333   \n",
       "3934                 237500.0                            299129.333333   \n",
       "\n",
       "      LinearRegression()  \n",
       "0               318657.0  \n",
       "1                80449.0  \n",
       "2                69761.0  \n",
       "3               250113.0  \n",
       "4               310337.0  \n",
       "...                  ...  \n",
       "3930            242945.0  \n",
       "3931             73505.0  \n",
       "3932             66001.0  \n",
       "3933            159425.0  \n",
       "3934            292097.0  \n",
       "\n",
       "[3935 rows x 3 columns]"
      ]
     },
     "execution_count": 7,
     "metadata": {},
     "output_type": "execute_result"
    }
   ],
   "source": [
    "d = pd.DataFrame(preds)\n",
    "d"
   ]
  },
  {
   "cell_type": "code",
   "execution_count": 8,
   "id": "1a9a98ca",
   "metadata": {},
   "outputs": [],
   "source": [
    "final_preds = d.copy()\n",
    "final_preds['mean'] = d.mean(axis=1)\n",
    "final_preds['median'] = d.median(axis=1)"
   ]
  },
  {
   "cell_type": "code",
   "execution_count": 9,
   "id": "9149660e",
   "metadata": {},
   "outputs": [
    {
     "name": "stdout",
     "output_type": "stream",
     "text": [
      "MAE: 31680.174780742625\n",
      "R2: 0.769390086790086\n"
     ]
    }
   ],
   "source": [
    "score = mean_absolute_error(y_test, final_preds['mean'])\n",
    "print('MAE:', score)\n",
    "r2score = r2_score(y_test, final_preds['mean'])\n",
    "print('R2:', r2score)"
   ]
  },
  {
   "cell_type": "code",
   "execution_count": 10,
   "id": "76161382",
   "metadata": {},
   "outputs": [
    {
     "name": "stdout",
     "output_type": "stream",
     "text": [
      "MAE: 29644.609104616688\n",
      "R2: 0.7855865228644684\n"
     ]
    }
   ],
   "source": [
    "score = mean_absolute_error(y_test, final_preds['median'])\n",
    "print('MAE:', score)\n",
    "r2score = r2_score(y_test, final_preds['median'])\n",
    "print('R2:', r2score)"
   ]
  },
  {
   "cell_type": "code",
   "execution_count": 11,
   "id": "d97596e2",
   "metadata": {},
   "outputs": [],
   "source": [
    "#Bagging takes subsets of the training data, train the same model on all the subsets and average the final results\n",
    "bagging = BaggingRegressor(DecisionTreeRegressor(), max_samples=0.5, max_features=0.5)\n",
    "\n",
    "#Boosting uses weak learner and learn from errors and train new model based on the errors\n",
    "boosting = AdaBoostRegressor(n_estimators=100)\n",
    "\n",
    "#Stacking trains different model on part of the training set and use one model to decide which prediction to choose\n",
    "estimators = [('ridge', RidgeCV()),\n",
    "              ('lasso', LassoCV(random_state=42)),\n",
    "              ('knr', KNeighborsRegressor(n_neighbors=20,metric='euclidean'))]\n",
    "final_estimator = GradientBoostingRegressor(n_estimators=25, subsample=0.5, \n",
    "                                            min_samples_leaf=25, max_features=1,random_state=42)\n",
    "stacking = StackingRegressor(estimators=estimators,final_estimator=final_estimator)"
   ]
  },
  {
   "cell_type": "code",
   "execution_count": 12,
   "id": "32c03b63",
   "metadata": {},
   "outputs": [
    {
     "name": "stdout",
     "output_type": "stream",
     "text": [
      "BaggingRegressor(base_estimator=DecisionTreeRegressor(), max_features=0.5,\n",
      "                 max_samples=0.5)\n",
      "MAE: 33536.68343074968\n",
      "R2: 0.755171902885788 \n",
      "\n",
      "AdaBoostRegressor(n_estimators=100)\n",
      "MAE: 52487.90285411425\n",
      "R2: 0.5570060261432686 \n",
      "\n",
      "StackingRegressor(estimators=[('ridge', RidgeCV()),\n",
      "                              ('lasso', LassoCV(random_state=42)),\n",
      "                              ('knr',\n",
      "                               KNeighborsRegressor(metric='euclidean',\n",
      "                                                   n_neighbors=20))],\n",
      "                  final_estimator=GradientBoostingRegressor(max_features=1,\n",
      "                                                            min_samples_leaf=25,\n",
      "                                                            n_estimators=25,\n",
      "                                                            random_state=42,\n",
      "                                                            subsample=0.5))\n",
      "MAE: 36250.660329051876\n",
      "R2: 0.727342571296173 \n",
      "\n"
     ]
    }
   ],
   "source": [
    "ensembles = [bagging, boosting, stacking]\n",
    "\n",
    "for e in ensembles :\n",
    "    print(e)\n",
    "    model = e\n",
    "    my_pipeline = pp.pipe(X_train, model)\n",
    "    my_pipeline.fit(X_train,y_train)\n",
    "    preds = my_pipeline.predict(X_test)\n",
    "    score = mean_absolute_error(y_test, preds)\n",
    "    print('MAE:', score)\n",
    "    r2score = r2_score(y_test, preds)\n",
    "    print('R2:', r2score, '\\n')"
   ]
  }
 ],
 "metadata": {
  "kernelspec": {
   "display_name": "Python 3 (ipykernel)",
   "language": "python",
   "name": "python3"
  },
  "language_info": {
   "codemirror_mode": {
    "name": "ipython",
    "version": 3
   },
   "file_extension": ".py",
   "mimetype": "text/x-python",
   "name": "python",
   "nbconvert_exporter": "python",
   "pygments_lexer": "ipython3",
   "version": "3.9.12"
  }
 },
 "nbformat": 4,
 "nbformat_minor": 5
}
