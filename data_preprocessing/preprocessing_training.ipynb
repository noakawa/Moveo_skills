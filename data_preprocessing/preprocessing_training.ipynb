{
 "cells": [
  {
   "cell_type": "code",
   "execution_count": 1,
   "id": "3bd32071",
   "metadata": {},
   "outputs": [],
   "source": [
    "import pandas as pd\n",
    "import matplotlib.pyplot as plt\n",
    "import numpy as np\n",
    "from scipy.stats import norm\n",
    "from sklearn.model_selection import train_test_split"
   ]
  },
  {
   "cell_type": "code",
   "execution_count": 2,
   "id": "de804d4b",
   "metadata": {},
   "outputs": [],
   "source": [
    "df = pd.read_csv('../data_exploration/housing.csv')"
   ]
  },
  {
   "cell_type": "code",
   "execution_count": 3,
   "id": "27d00609",
   "metadata": {},
   "outputs": [],
   "source": [
    "def prepare_date(df, drop_target=True, drop_outliers=False):\n",
    "    \n",
    "    df2 = df.copy()\n",
    "    \n",
    "    if drop_target:\n",
    "        df2 = df[df['median_house_value'] != df['median_house_value'].max()]\n",
    "    \n",
    "    df_train, df_test = train_test_split(df2, test_size=.2)\n",
    "    new_df_train = df_train.copy()\n",
    "    \n",
    "    if drop_outliers:\n",
    "        \n",
    "        std7 = df_train.max() - (6.1*df_train.std() + df_train.quantile(q=0.75)) \n",
    "        index = std7[std7>0].index\n",
    "\n",
    "        for i in index:\n",
    "            new_df_train = df_train[df_train[i]<df_train[i].quantile(0.99)]\n",
    "    \n",
    "    return new_df_train, df_test"
   ]
  },
  {
   "cell_type": "code",
   "execution_count": 4,
   "id": "23b33055",
   "metadata": {},
   "outputs": [],
   "source": [
    "df_train, df_test = prepare_date(df)"
   ]
  },
  {
   "cell_type": "code",
   "execution_count": 5,
   "id": "cf6f13ef",
   "metadata": {},
   "outputs": [],
   "source": [
    "df_test.to_csv('housing_test.csv', index=False)\n",
    "df_train.to_csv('housing_train.csv', index=False)"
   ]
  }
 ],
 "metadata": {
  "kernelspec": {
   "display_name": "Python 3 (ipykernel)",
   "language": "python",
   "name": "python3"
  },
  "language_info": {
   "codemirror_mode": {
    "name": "ipython",
    "version": 3
   },
   "file_extension": ".py",
   "mimetype": "text/x-python",
   "name": "python",
   "nbconvert_exporter": "python",
   "pygments_lexer": "ipython3",
   "version": "3.9.12"
  }
 },
 "nbformat": 4,
 "nbformat_minor": 5
}
