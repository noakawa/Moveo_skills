{
 "cells": [
  {
   "cell_type": "code",
   "execution_count": 1,
   "id": "1269bf0d",
   "metadata": {},
   "outputs": [],
   "source": [
    "import pandas as pd\n",
    "import numpy as np\n",
    "import matplotlib.pyplot as plt"
   ]
  },
  {
   "cell_type": "code",
   "execution_count": 2,
   "id": "4883beae",
   "metadata": {},
   "outputs": [],
   "source": [
    "df = pd.read_csv('housing_train.csv')"
   ]
  },
  {
   "cell_type": "code",
   "execution_count": 3,
   "id": "4f1ec17d",
   "metadata": {},
   "outputs": [
    {
     "data": {
      "text/html": [
       "<div>\n",
       "<style scoped>\n",
       "    .dataframe tbody tr th:only-of-type {\n",
       "        vertical-align: middle;\n",
       "    }\n",
       "\n",
       "    .dataframe tbody tr th {\n",
       "        vertical-align: top;\n",
       "    }\n",
       "\n",
       "    .dataframe thead th {\n",
       "        text-align: right;\n",
       "    }\n",
       "</style>\n",
       "<table border=\"1\" class=\"dataframe\">\n",
       "  <thead>\n",
       "    <tr style=\"text-align: right;\">\n",
       "      <th></th>\n",
       "      <th>longitude</th>\n",
       "      <th>latitude</th>\n",
       "      <th>housing_median_age</th>\n",
       "      <th>total_rooms</th>\n",
       "      <th>total_bedrooms</th>\n",
       "      <th>population</th>\n",
       "      <th>households</th>\n",
       "      <th>median_income</th>\n",
       "      <th>median_house_value</th>\n",
       "      <th>ocean_proximity</th>\n",
       "    </tr>\n",
       "  </thead>\n",
       "  <tbody>\n",
       "    <tr>\n",
       "      <th>0</th>\n",
       "      <td>-118.16</td>\n",
       "      <td>33.84</td>\n",
       "      <td>36.0</td>\n",
       "      <td>2444.0</td>\n",
       "      <td>432.0</td>\n",
       "      <td>1199.0</td>\n",
       "      <td>424.0</td>\n",
       "      <td>4.1538</td>\n",
       "      <td>218800.0</td>\n",
       "      <td>&lt;1H OCEAN</td>\n",
       "    </tr>\n",
       "    <tr>\n",
       "      <th>1</th>\n",
       "      <td>-121.83</td>\n",
       "      <td>37.34</td>\n",
       "      <td>26.0</td>\n",
       "      <td>1848.0</td>\n",
       "      <td>339.0</td>\n",
       "      <td>1952.0</td>\n",
       "      <td>327.0</td>\n",
       "      <td>4.0870</td>\n",
       "      <td>182500.0</td>\n",
       "      <td>&lt;1H OCEAN</td>\n",
       "    </tr>\n",
       "    <tr>\n",
       "      <th>2</th>\n",
       "      <td>-118.01</td>\n",
       "      <td>34.12</td>\n",
       "      <td>32.0</td>\n",
       "      <td>1937.0</td>\n",
       "      <td>332.0</td>\n",
       "      <td>922.0</td>\n",
       "      <td>340.0</td>\n",
       "      <td>3.9400</td>\n",
       "      <td>278400.0</td>\n",
       "      <td>INLAND</td>\n",
       "    </tr>\n",
       "    <tr>\n",
       "      <th>3</th>\n",
       "      <td>-116.31</td>\n",
       "      <td>33.73</td>\n",
       "      <td>19.0</td>\n",
       "      <td>12467.0</td>\n",
       "      <td>2508.0</td>\n",
       "      <td>4086.0</td>\n",
       "      <td>1761.0</td>\n",
       "      <td>3.2846</td>\n",
       "      <td>131900.0</td>\n",
       "      <td>INLAND</td>\n",
       "    </tr>\n",
       "    <tr>\n",
       "      <th>4</th>\n",
       "      <td>-118.17</td>\n",
       "      <td>33.92</td>\n",
       "      <td>36.0</td>\n",
       "      <td>2447.0</td>\n",
       "      <td>503.0</td>\n",
       "      <td>1532.0</td>\n",
       "      <td>498.0</td>\n",
       "      <td>4.3667</td>\n",
       "      <td>171800.0</td>\n",
       "      <td>&lt;1H OCEAN</td>\n",
       "    </tr>\n",
       "  </tbody>\n",
       "</table>\n",
       "</div>"
      ],
      "text/plain": [
       "   longitude  latitude  housing_median_age  total_rooms  total_bedrooms  \\\n",
       "0    -118.16     33.84                36.0       2444.0           432.0   \n",
       "1    -121.83     37.34                26.0       1848.0           339.0   \n",
       "2    -118.01     34.12                32.0       1937.0           332.0   \n",
       "3    -116.31     33.73                19.0      12467.0          2508.0   \n",
       "4    -118.17     33.92                36.0       2447.0           503.0   \n",
       "\n",
       "   population  households  median_income  median_house_value ocean_proximity  \n",
       "0      1199.0       424.0         4.1538            218800.0       <1H OCEAN  \n",
       "1      1952.0       327.0         4.0870            182500.0       <1H OCEAN  \n",
       "2       922.0       340.0         3.9400            278400.0          INLAND  \n",
       "3      4086.0      1761.0         3.2846            131900.0          INLAND  \n",
       "4      1532.0       498.0         4.3667            171800.0       <1H OCEAN  "
      ]
     },
     "execution_count": 3,
     "metadata": {},
     "output_type": "execute_result"
    }
   ],
   "source": [
    "df.head()"
   ]
  },
  {
   "cell_type": "code",
   "execution_count": 4,
   "id": "53aec33f",
   "metadata": {},
   "outputs": [],
   "source": [
    "from sklearn.compose import ColumnTransformer\n",
    "from sklearn.pipeline import Pipeline\n",
    "from sklearn.impute import SimpleImputer\n",
    "from sklearn.preprocessing import OneHotEncoder\n",
    "from sklearn.model_selection import train_test_split\n",
    "from sklearn.preprocessing import StandardScaler"
   ]
  },
  {
   "cell_type": "code",
   "execution_count": 6,
   "id": "5e3a0220",
   "metadata": {},
   "outputs": [],
   "source": [
    "target = 'median_house_value'\n",
    "y_train = df[target]\n",
    "X_train = df.drop(columns=target)"
   ]
  },
  {
   "cell_type": "code",
   "execution_count": 7,
   "id": "783c10a0",
   "metadata": {},
   "outputs": [],
   "source": [
    "# numerical data\n",
    "numerical_cols = X_train.select_dtypes(include=np.number).columns\n",
    "numerical_transformer = Pipeline(steps=[\n",
    "    ('imputer', SimpleImputer(strategy='median'))\n",
    "    #('scaler', StandardScaler())\n",
    "])"
   ]
  },
  {
   "cell_type": "code",
   "execution_count": 8,
   "id": "bda18cd1",
   "metadata": {},
   "outputs": [],
   "source": [
    "# Preprocessing for categorical data\n",
    "categorical_cols = X_train.select_dtypes(exclude=np.number).columns\n",
    "categorical_transformer = Pipeline(steps=[\n",
    "    ('imputer', SimpleImputer(strategy='most_frequent')),\n",
    "    ('onehot', OneHotEncoder(handle_unknown='ignore'))\n",
    "    #('scaler', StandardScaler())\n",
    "])"
   ]
  },
  {
   "cell_type": "code",
   "execution_count": 9,
   "id": "2ff71740",
   "metadata": {},
   "outputs": [],
   "source": [
    "preprocessor = ColumnTransformer(\n",
    "    transformers=[\n",
    "        ('num', numerical_transformer, numerical_cols),\n",
    "        ('cat', categorical_transformer, categorical_cols)\n",
    "    ])"
   ]
  },
  {
   "cell_type": "code",
   "execution_count": 10,
   "id": "0d7666b5",
   "metadata": {},
   "outputs": [],
   "source": [
    "from sklearn.metrics import mean_absolute_error\n",
    "from sklearn.ensemble import RandomForestRegressor"
   ]
  },
  {
   "cell_type": "code",
   "execution_count": 11,
   "id": "f1a9eeff",
   "metadata": {},
   "outputs": [],
   "source": [
    "model = RandomForestRegressor(n_estimators = 300)"
   ]
  },
  {
   "cell_type": "code",
   "execution_count": 12,
   "id": "5bdd89ac",
   "metadata": {},
   "outputs": [],
   "source": [
    "df_test = pd.read_csv('housing_test.csv')\n",
    "\n",
    "target = 'median_house_value'\n",
    "y_test = df_test[target]\n",
    "X_test = df_test.drop(columns=target)"
   ]
  },
  {
   "cell_type": "markdown",
   "id": "a47d18c8",
   "metadata": {},
   "source": [
    "### Score basic preprocessing"
   ]
  },
  {
   "cell_type": "code",
   "execution_count": 13,
   "id": "0883463d",
   "metadata": {},
   "outputs": [
    {
     "name": "stdout",
     "output_type": "stream",
     "text": [
      "MAE: 31003.16097383721\n"
     ]
    }
   ],
   "source": [
    "import numpy as np\n",
    "\n",
    "my_pipeline = Pipeline(steps=[('preprocessor', preprocessor),\n",
    "                              ('model', model)\n",
    "                             ])\n",
    "\n",
    "# Preprocessing of training data, fit model \n",
    "my_pipeline.fit(X_train, y_train)\n",
    "\n",
    "# Preprocessing of validation data, get predictions\n",
    "preds = my_pipeline.predict(X_test)\n",
    "\n",
    "# Evaluate the model\n",
    "score = mean_absolute_error(y_test, preds)\n",
    "print('MAE:', score)"
   ]
  },
  {
   "cell_type": "code",
   "execution_count": 14,
   "id": "855c711e",
   "metadata": {},
   "outputs": [
    {
     "data": {
      "text/plain": [
       "0.8287250281479022"
      ]
     },
     "execution_count": 14,
     "metadata": {},
     "output_type": "execute_result"
    }
   ],
   "source": [
    "my_pipeline.score(X_test,y_test)"
   ]
  },
  {
   "cell_type": "markdown",
   "id": "75587673",
   "metadata": {},
   "source": [
    "### Score predicting the mean"
   ]
  },
  {
   "cell_type": "code",
   "execution_count": 16,
   "id": "54d1ed7e",
   "metadata": {},
   "outputs": [],
   "source": [
    "y_mean = np.repeat(y_test.mean(), len(y_test))"
   ]
  },
  {
   "cell_type": "code",
   "execution_count": 17,
   "id": "91b9a230",
   "metadata": {},
   "outputs": [
    {
     "name": "stdout",
     "output_type": "stream",
     "text": [
      "MAE: 90767.21115510073\n"
     ]
    }
   ],
   "source": [
    "score = mean_absolute_error(y_test, y_mean)\n",
    "print('MAE:', score)"
   ]
  },
  {
   "cell_type": "code",
   "execution_count": 13,
   "id": "913cc6dc",
   "metadata": {},
   "outputs": [],
   "source": [
    "# 0.8251377067228349 Baseline \n",
    "# 0.7902212066730406 Engineering 35284.10970930233"
   ]
  }
 ],
 "metadata": {
  "kernelspec": {
   "display_name": "Python 3 (ipykernel)",
   "language": "python",
   "name": "python3"
  },
  "language_info": {
   "codemirror_mode": {
    "name": "ipython",
    "version": 3
   },
   "file_extension": ".py",
   "mimetype": "text/x-python",
   "name": "python",
   "nbconvert_exporter": "python",
   "pygments_lexer": "ipython3",
   "version": "3.9.12"
  }
 },
 "nbformat": 4,
 "nbformat_minor": 5
}
